{
 "cells": [
  {
   "cell_type": "code",
   "execution_count": 10,
   "metadata": {},
   "outputs": [
    {
     "data": {
      "text/html": [
       "<div>\n",
       "<style scoped>\n",
       "    .dataframe tbody tr th:only-of-type {\n",
       "        vertical-align: middle;\n",
       "    }\n",
       "\n",
       "    .dataframe tbody tr th {\n",
       "        vertical-align: top;\n",
       "    }\n",
       "\n",
       "    .dataframe thead th {\n",
       "        text-align: right;\n",
       "    }\n",
       "</style>\n",
       "<table border=\"1\" class=\"dataframe\">\n",
       "  <thead>\n",
       "    <tr style=\"text-align: right;\">\n",
       "      <th></th>\n",
       "      <th>mean_radius</th>\n",
       "      <th>mean_texture</th>\n",
       "      <th>mean_perimeter</th>\n",
       "      <th>mean_area</th>\n",
       "      <th>mean_smoothness</th>\n",
       "      <th>diagnosis</th>\n",
       "    </tr>\n",
       "  </thead>\n",
       "  <tbody>\n",
       "    <tr>\n",
       "      <th>0</th>\n",
       "      <td>17.99</td>\n",
       "      <td>10.38</td>\n",
       "      <td>122.80</td>\n",
       "      <td>1001.0</td>\n",
       "      <td>0.11840</td>\n",
       "      <td>0</td>\n",
       "    </tr>\n",
       "    <tr>\n",
       "      <th>1</th>\n",
       "      <td>20.57</td>\n",
       "      <td>17.77</td>\n",
       "      <td>132.90</td>\n",
       "      <td>1326.0</td>\n",
       "      <td>0.08474</td>\n",
       "      <td>0</td>\n",
       "    </tr>\n",
       "    <tr>\n",
       "      <th>2</th>\n",
       "      <td>19.69</td>\n",
       "      <td>21.25</td>\n",
       "      <td>130.00</td>\n",
       "      <td>1203.0</td>\n",
       "      <td>0.10960</td>\n",
       "      <td>0</td>\n",
       "    </tr>\n",
       "    <tr>\n",
       "      <th>3</th>\n",
       "      <td>11.42</td>\n",
       "      <td>20.38</td>\n",
       "      <td>77.58</td>\n",
       "      <td>386.1</td>\n",
       "      <td>0.14250</td>\n",
       "      <td>0</td>\n",
       "    </tr>\n",
       "    <tr>\n",
       "      <th>4</th>\n",
       "      <td>20.29</td>\n",
       "      <td>14.34</td>\n",
       "      <td>135.10</td>\n",
       "      <td>1297.0</td>\n",
       "      <td>0.10030</td>\n",
       "      <td>0</td>\n",
       "    </tr>\n",
       "  </tbody>\n",
       "</table>\n",
       "</div>"
      ],
      "text/plain": [
       "   mean_radius  mean_texture  mean_perimeter  mean_area  mean_smoothness  \\\n",
       "0        17.99         10.38          122.80     1001.0          0.11840   \n",
       "1        20.57         17.77          132.90     1326.0          0.08474   \n",
       "2        19.69         21.25          130.00     1203.0          0.10960   \n",
       "3        11.42         20.38           77.58      386.1          0.14250   \n",
       "4        20.29         14.34          135.10     1297.0          0.10030   \n",
       "\n",
       "   diagnosis  \n",
       "0          0  \n",
       "1          0  \n",
       "2          0  \n",
       "3          0  \n",
       "4          0  "
      ]
     },
     "execution_count": 10,
     "metadata": {},
     "output_type": "execute_result"
    }
   ],
   "source": [
    "import pandas as pd\n",
    "import numpy as np\n",
    "import sklearn\n",
    "from sklearn import linear_model\n",
    "from sklearn import svm\n",
    "\n",
    "df = pd.read_csv('Breast_cancer_data.csv')\n",
    "\n",
    "df.head()"
   ]
  },
  {
   "cell_type": "code",
   "execution_count": 6,
   "metadata": {},
   "outputs": [
    {
     "name": "stdout",
     "output_type": "stream",
     "text": [
      "[1.799e+01 1.038e+01 1.228e+02 1.001e+03 1.184e-01]\n"
     ]
    }
   ],
   "source": [
    "predict = 'diagnosis'\n",
    "\n",
    "x = np.array(df[['mean_radius','mean_texture','mean_perimeter','mean_area','mean_smoothness']])\n",
    "y = np.array(df[predict])\n",
    "print(x[0])"
   ]
  },
  {
   "cell_type": "code",
   "execution_count": 9,
   "metadata": {},
   "outputs": [],
   "source": [
    "x_train,x_test,y_train,y_test = sklearn.model_selection.train_test_split(x,y, test_size = 0.1 )"
   ]
  },
  {
   "cell_type": "code",
   "execution_count": 20,
   "metadata": {},
   "outputs": [
    {
     "name": "stdout",
     "output_type": "stream",
     "text": [
      "0.8596491228070176\n"
     ]
    }
   ],
   "source": [
    "clf = svm.SVC()\n",
    "clf.fit(x_train,y_train)\n",
    "acc = clf.score(x_test,y_test)\n",
    "print(acc)"
   ]
  },
  {
   "cell_type": "code",
   "execution_count": 39,
   "metadata": {},
   "outputs": [
    {
     "name": "stdout",
     "output_type": "stream",
     "text": [
      "0.8771929824561403\n"
     ]
    }
   ],
   "source": [
    "clf = svm.SVC(kernel = 'linear')\n",
    "clf.fit(x_train,y_train)\n",
    "acc = clf.score(x_test,y_test)\n",
    "print(acc)"
   ]
  },
  {
   "cell_type": "code",
   "execution_count": 13,
   "metadata": {},
   "outputs": [
    {
     "name": "stdout",
     "output_type": "stream",
     "text": [
      "0.8947368421052632\n"
     ]
    }
   ],
   "source": [
    "clf = svm.SVC(kernel = 'poly')\n",
    "clf.fit(x_train,y_train)\n",
    "acc = clf.score(x_test,y_test)\n",
    "print(acc)"
   ]
  },
  {
   "cell_type": "code",
   "execution_count": 15,
   "metadata": {},
   "outputs": [
    {
     "name": "stdout",
     "output_type": "stream",
     "text": [
      "0.8596491228070176\n"
     ]
    }
   ],
   "source": [
    "clf = svm.SVC(kernel = 'rbf')\n",
    "clf.fit(x_train,y_train)\n",
    "acc = clf.score(x_test,y_test)\n",
    "print(acc)"
   ]
  },
  {
   "cell_type": "code",
   "execution_count": 18,
   "metadata": {},
   "outputs": [
    {
     "name": "stdout",
     "output_type": "stream",
     "text": [
      "0.42105263157894735\n"
     ]
    }
   ],
   "source": [
    "clf = svm.SVC(kernel = 'sigmoid')\n",
    "clf.fit(x_train,y_train)\n",
    "acc = clf.score(x_test,y_test)\n",
    "print(acc)"
   ]
  },
  {
   "cell_type": "code",
   "execution_count": 48,
   "metadata": {},
   "outputs": [
    {
     "name": "stdout",
     "output_type": "stream",
     "text": [
      "0.8947368421052632\n"
     ]
    }
   ],
   "source": [
    "clf = svm.SVC(kernel = 'poly', degree = 3)\n",
    "clf.fit(x_train,y_train)\n",
    "acc = clf.score(x_test,y_test)\n",
    "print(acc)"
   ]
  },
  {
   "cell_type": "code",
   "execution_count": 60,
   "metadata": {},
   "outputs": [
    {
     "name": "stdout",
     "output_type": "stream",
     "text": [
      "Predicted:  positive  Actual:  positive\n",
      "Predicted:  negative  Actual:  negative\n",
      "Predicted:  positive  Actual:  negative\n",
      "Predicted:  negative  Actual:  negative\n",
      "Predicted:  negative  Actual:  negative\n",
      "Predicted:  positive  Actual:  positive\n",
      "Predicted:  positive  Actual:  positive\n",
      "Predicted:  positive  Actual:  positive\n",
      "Predicted:  negative  Actual:  negative\n",
      "Predicted:  positive  Actual:  positive\n",
      "Predicted:  negative  Actual:  negative\n",
      "Predicted:  positive  Actual:  positive\n",
      "Predicted:  positive  Actual:  negative\n",
      "Predicted:  positive  Actual:  positive\n",
      "Predicted:  positive  Actual:  positive\n",
      "Predicted:  positive  Actual:  positive\n",
      "Predicted:  positive  Actual:  positive\n",
      "Predicted:  negative  Actual:  negative\n",
      "Predicted:  positive  Actual:  positive\n",
      "Predicted:  positive  Actual:  positive\n",
      "Predicted:  positive  Actual:  positive\n",
      "Predicted:  negative  Actual:  negative\n",
      "Predicted:  positive  Actual:  positive\n",
      "Predicted:  negative  Actual:  negative\n",
      "Predicted:  positive  Actual:  negative\n",
      "Predicted:  positive  Actual:  positive\n",
      "Predicted:  positive  Actual:  positive\n",
      "Predicted:  negative  Actual:  negative\n",
      "Predicted:  positive  Actual:  positive\n",
      "Predicted:  positive  Actual:  positive\n",
      "Predicted:  positive  Actual:  positive\n",
      "Predicted:  positive  Actual:  positive\n",
      "Predicted:  negative  Actual:  negative\n",
      "Predicted:  positive  Actual:  positive\n",
      "Predicted:  negative  Actual:  negative\n",
      "Predicted:  positive  Actual:  positive\n",
      "Predicted:  positive  Actual:  positive\n",
      "Predicted:  positive  Actual:  positive\n",
      "Predicted:  positive  Actual:  positive\n",
      "Predicted:  positive  Actual:  positive\n",
      "Predicted:  positive  Actual:  positive\n",
      "Predicted:  positive  Actual:  positive\n",
      "Predicted:  positive  Actual:  positive\n",
      "Predicted:  positive  Actual:  positive\n",
      "Predicted:  negative  Actual:  negative\n",
      "Predicted:  negative  Actual:  negative\n",
      "Predicted:  positive  Actual:  negative\n",
      "Predicted:  positive  Actual:  positive\n",
      "Predicted:  negative  Actual:  negative\n",
      "Predicted:  positive  Actual:  positive\n",
      "Predicted:  positive  Actual:  positive\n",
      "Predicted:  positive  Actual:  positive\n",
      "Predicted:  positive  Actual:  positive\n",
      "Predicted:  negative  Actual:  negative\n",
      "Predicted:  negative  Actual:  negative\n",
      "Predicted:  positive  Actual:  negative\n",
      "Predicted:  positive  Actual:  negative\n"
     ]
    }
   ],
   "source": [
    "predict = clf.predict(x_test)\n",
    "case = ['negative','positive']\n",
    "for x in range(len(predict)):\n",
    "    print(\"Predicted: \", case[predict[x]], \" Actual: \", case[y_test[x]])"
   ]
  },
  {
   "cell_type": "markdown",
   "metadata": {},
   "source": [
    "It seems as though is this as accurate as i can get with a SVC classifier"
   ]
  },
  {
   "cell_type": "markdown",
   "metadata": {},
   "source": [
    "Try KNN"
   ]
  },
  {
   "cell_type": "code",
   "execution_count": 77,
   "metadata": {},
   "outputs": [
    {
     "name": "stdout",
     "output_type": "stream",
     "text": [
      "0.9122807017543859\n"
     ]
    }
   ],
   "source": [
    "from sklearn.neighbors import KNeighborsClassifier \n",
    "\n",
    "model = KNeighborsClassifier(n_neighbors = 9)\n",
    "model.fit(x_train,y_train)\n",
    "\n",
    "acc = model.score(x_test,y_test)\n",
    "print(acc)"
   ]
  },
  {
   "cell_type": "code",
   "execution_count": 59,
   "metadata": {},
   "outputs": [
    {
     "name": "stdout",
     "output_type": "stream",
     "text": [
      "Predicted:  positive  Actual:  positive\n",
      "Predicted:  negative  Actual:  negative\n",
      "Predicted:  positive  Actual:  negative\n",
      "Predicted:  negative  Actual:  negative\n",
      "Predicted:  negative  Actual:  negative\n",
      "Predicted:  positive  Actual:  positive\n",
      "Predicted:  positive  Actual:  positive\n",
      "Predicted:  positive  Actual:  positive\n",
      "Predicted:  negative  Actual:  negative\n",
      "Predicted:  positive  Actual:  positive\n",
      "Predicted:  negative  Actual:  negative\n",
      "Predicted:  positive  Actual:  positive\n",
      "Predicted:  positive  Actual:  negative\n",
      "Predicted:  positive  Actual:  positive\n",
      "Predicted:  positive  Actual:  positive\n",
      "Predicted:  positive  Actual:  positive\n",
      "Predicted:  positive  Actual:  positive\n",
      "Predicted:  negative  Actual:  negative\n",
      "Predicted:  positive  Actual:  positive\n",
      "Predicted:  positive  Actual:  positive\n",
      "Predicted:  positive  Actual:  positive\n",
      "Predicted:  negative  Actual:  negative\n",
      "Predicted:  positive  Actual:  positive\n",
      "Predicted:  negative  Actual:  negative\n",
      "Predicted:  negative  Actual:  negative\n",
      "Predicted:  negative  Actual:  positive\n",
      "Predicted:  positive  Actual:  positive\n",
      "Predicted:  negative  Actual:  negative\n",
      "Predicted:  positive  Actual:  positive\n",
      "Predicted:  positive  Actual:  positive\n",
      "Predicted:  positive  Actual:  positive\n",
      "Predicted:  positive  Actual:  positive\n",
      "Predicted:  negative  Actual:  negative\n",
      "Predicted:  positive  Actual:  positive\n",
      "Predicted:  negative  Actual:  negative\n",
      "Predicted:  positive  Actual:  positive\n",
      "Predicted:  positive  Actual:  positive\n",
      "Predicted:  positive  Actual:  positive\n",
      "Predicted:  positive  Actual:  positive\n",
      "Predicted:  positive  Actual:  positive\n",
      "Predicted:  positive  Actual:  positive\n",
      "Predicted:  positive  Actual:  positive\n",
      "Predicted:  positive  Actual:  positive\n",
      "Predicted:  positive  Actual:  positive\n",
      "Predicted:  negative  Actual:  negative\n",
      "Predicted:  negative  Actual:  negative\n",
      "Predicted:  positive  Actual:  negative\n",
      "Predicted:  positive  Actual:  positive\n",
      "Predicted:  negative  Actual:  negative\n",
      "Predicted:  positive  Actual:  positive\n",
      "Predicted:  positive  Actual:  positive\n",
      "Predicted:  positive  Actual:  positive\n",
      "Predicted:  positive  Actual:  positive\n",
      "Predicted:  negative  Actual:  negative\n",
      "Predicted:  negative  Actual:  negative\n",
      "Predicted:  negative  Actual:  negative\n",
      "Predicted:  positive  Actual:  negative\n"
     ]
    }
   ],
   "source": [
    "predict = model.predict(x_test)\n",
    "case = ['negative','positive']\n",
    "for x in range(len(predict)):\n",
    "    print(\"Predicted: \", case[predict[x]], \" Actual: \", case[y_test[x]])"
   ]
  },
  {
   "cell_type": "code",
   "execution_count": null,
   "metadata": {},
   "outputs": [],
   "source": []
  },
  {
   "cell_type": "code",
   "execution_count": null,
   "metadata": {},
   "outputs": [],
   "source": []
  },
  {
   "cell_type": "code",
   "execution_count": null,
   "metadata": {},
   "outputs": [],
   "source": []
  },
  {
   "cell_type": "code",
   "execution_count": null,
   "metadata": {},
   "outputs": [],
   "source": []
  }
 ],
 "metadata": {
  "kernelspec": {
   "display_name": "Python 3",
   "language": "python",
   "name": "python3"
  },
  "language_info": {
   "codemirror_mode": {
    "name": "ipython",
    "version": 3
   },
   "file_extension": ".py",
   "mimetype": "text/x-python",
   "name": "python",
   "nbconvert_exporter": "python",
   "pygments_lexer": "ipython3",
   "version": "3.8.3"
  }
 },
 "nbformat": 4,
 "nbformat_minor": 4
}
